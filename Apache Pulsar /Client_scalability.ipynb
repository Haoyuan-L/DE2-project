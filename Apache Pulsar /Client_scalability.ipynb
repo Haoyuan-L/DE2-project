{
 "cells": [
  {
   "cell_type": "code",
   "execution_count": 1,
   "id": "f36a4e59",
   "metadata": {},
   "outputs": [],
   "source": [
    "import pulsar\n",
    "import json\n",
    "import matplotlib.pyplot as plt\n",
    "import pandas as pd\n",
    "from IPython.display import clear_output\n",
    "import time"
   ]
  },
  {
   "cell_type": "code",
   "execution_count": 2,
   "id": "aec4e3f3",
   "metadata": {},
   "outputs": [],
   "source": [
    "client = pulsar.Client('pulsar://localhost:6650')"
   ]
  },
  {
   "cell_type": "code",
   "execution_count": 3,
   "id": "ae0c6e0b",
   "metadata": {},
   "outputs": [
    {
     "name": "stdout",
     "output_type": "stream",
     "text": [
      "2022-06-07 13:48:34.251 INFO  [140685324695360] ConnectionPool:85 | Created connection for pulsar://localhost:6650\n",
      "2022-06-07 13:48:34.255 INFO  [140684370544384] ClientConnection:356 | [127.0.0.1:34092 -> 127.0.0.1:6650] Connected to broker\n",
      "2022-06-07 13:48:34.260 INFO  [140684370544384] HandlerBase:54 | [persistent://public/default/request_scalability_w3, ] Getting connection from pool\n",
      "2022-06-07 13:48:34.264 INFO  [140684370544384] ProducerImpl:170 | [persistent://public/default/request_scalability_w3, ] Created producer on broker [127.0.0.1:34092 -> 127.0.0.1:6650] \n"
     ]
    }
   ],
   "source": [
    "producer = client.create_producer('request_scalability_w3')"
   ]
  },
  {
   "cell_type": "code",
   "execution_count": 4,
   "id": "a2b0f748",
   "metadata": {},
   "outputs": [],
   "source": [
    "total_data = 85400"
   ]
  },
  {
   "cell_type": "code",
   "execution_count": 5,
   "id": "b7cfff76",
   "metadata": {},
   "outputs": [],
   "source": [
    "test_stack = []\n",
    "\n",
    "# Divides the request into batches and sends it to the analysis nodes\n",
    "def makeRequest(data_size, batch_size=264):\n",
    "    temp_total = data_size\n",
    "    start_index = 0\n",
    "    if not (0 < data_size < 365000):\n",
    "        raise ValueError(\"Data Size not available!\")\n",
    "    while data_size > 0:\n",
    "        if data_size - batch_size < 0:\n",
    "            batch_size = data_size\n",
    "        next_index = start_index\n",
    "        next_index += batch_size\n",
    "        producer.send((f\"{start_index} - {next_index}\").encode('utf-8'))\n",
    "        #test_stack.append(f\"{start_index} - {next_index}\")\n",
    "        start_index = next_index + 1\n",
    "        data_size -= batch_size + 1"
   ]
  },
  {
   "cell_type": "code",
   "execution_count": 6,
   "id": "070b3b0f",
   "metadata": {},
   "outputs": [],
   "source": [
    "def aggregate_dicts(dict_a, dict_b):\n",
    "    for key in dict_b.keys():\n",
    "        if key not in dict_a.keys():\n",
    "            dict_a[key] = int(dict_b[key])\n",
    "        else:\n",
    "            dict_a[key] += int(dict_b[key])\n",
    "    return dict_a\n",
    "\n",
    "def parse_dict(prog_dict):\n",
    "    prog_df = pd.DataFrame.from_dict(prog_dict, orient='index', columns=[\"count\"])\n",
    "    prog_df = prog_df.sort_values(\"count\", ascending=False)\n",
    "    return prog_df"
   ]
  },
  {
   "cell_type": "code",
   "execution_count": 7,
   "id": "c876bbc2",
   "metadata": {},
   "outputs": [],
   "source": [
    "start_time = time.time()"
   ]
  },
  {
   "cell_type": "code",
   "execution_count": 8,
   "id": "f1cb0615",
   "metadata": {},
   "outputs": [
    {
     "name": "stdout",
     "output_type": "stream",
     "text": [
      "2022-06-07 13:48:34.996 INFO  [140685324695360] Client:88 | Subscribing on Topic :response_one\n",
      "2022-06-07 13:48:34.999 INFO  [140684370544384] HandlerBase:54 | [persistent://public/default/response_one, client, 0] Getting connection from pool\n",
      "2022-06-07 13:48:35.003 INFO  [140684370544384] ConsumerImpl:216 | [persistent://public/default/response_one, client, 0] Created consumer on broker [127.0.0.1:34092 -> 127.0.0.1:6650] \n",
      "2022-06-07 13:48:35.003 INFO  [140685324695360] Client:88 | Subscribing on Topic :response_two\n",
      "2022-06-07 13:48:35.005 INFO  [140684370544384] HandlerBase:54 | [persistent://public/default/response_two, client, 1] Getting connection from pool\n",
      "2022-06-07 13:48:35.009 INFO  [140684370544384] ConsumerImpl:216 | [persistent://public/default/response_two, client, 1] Created consumer on broker [127.0.0.1:34092 -> 127.0.0.1:6650] \n",
      "2022-06-07 13:48:35.010 INFO  [140685324695360] Client:88 | Subscribing on Topic :response_three\n",
      "2022-06-07 13:48:35.012 INFO  [140684370544384] HandlerBase:54 | [persistent://public/default/response_three, client, 2] Getting connection from pool\n",
      "2022-06-07 13:48:35.014 INFO  [140684370544384] ConsumerImpl:216 | [persistent://public/default/response_three, client, 2] Created consumer on broker [127.0.0.1:34092 -> 127.0.0.1:6650] \n",
      "2022-06-07 13:48:35.016 INFO  [140685324695360] Client:88 | Subscribing on Topic :response_four\n",
      "2022-06-07 13:48:35.017 INFO  [140684370544384] HandlerBase:54 | [persistent://public/default/response_four, client, 3] Getting connection from pool\n",
      "2022-06-07 13:48:35.020 INFO  [140684370544384] ConsumerImpl:216 | [persistent://public/default/response_four, client, 3] Created consumer on broker [127.0.0.1:34092 -> 127.0.0.1:6650] \n"
     ]
    }
   ],
   "source": [
    "consumer_one = client.subscribe('response_one', subscription_name='client')\n",
    "consumer_two = client.subscribe('response_two', subscription_name='client')\n",
    "consumer_three = client.subscribe('response_three', subscription_name='client')\n",
    "consumer_four = client.subscribe('response_four', subscription_name='client')"
   ]
  },
  {
   "cell_type": "code",
   "execution_count": 9,
   "id": "53e610d5",
   "metadata": {},
   "outputs": [],
   "source": [
    "makeRequest(15000)"
   ]
  },
  {
   "cell_type": "code",
   "execution_count": 10,
   "id": "6a87461f",
   "metadata": {},
   "outputs": [],
   "source": [
    "prog_dict = {}\n",
    "test_prog_dict = {}\n",
    "devop_prog_dict = {}\n",
    "top_repos = []\n",
    "total_num = 0\n",
    "total_test = 0\n",
    "total_devop_test = 0"
   ]
  },
  {
   "cell_type": "code",
   "execution_count": null,
   "id": "44811eec",
   "metadata": {
    "scrolled": true
   },
   "outputs": [
    {
     "name": "stdout",
     "output_type": "stream",
     "text": [
      "[['https://github.com/fabianishere/udm-kernel', 799619], ['https://github.com/leaningtech/cheerp-compiler', 423988], ['https://github.com/Status-Plus/StatusPlus', 396098], ['https://github.com/GiorgioComitini/COVID-19', 107359], ['https://github.com/vlggms/tegustation', 79729], ['https://github.com/abhijoshi2k/abhijoshi2k', 73278], ['https://github.com/SinguloStation13/SinguloStation13', 71417], ['https://github.com/feravolt/Brutal_busybox', 16916], ['https://github.com/hotio/duplicacy', 16383], ['https://github.com/chinnkarahoi/jd_scripts', 13429]]\n",
      "                  count\n",
      "Python             3031\n",
      "JavaScript         2193\n",
      "TypeScript         1123\n",
      "C#                  801\n",
      "Java                765\n",
      "C++                 730\n",
      "Jupyter Notebook    698\n",
      "HTML                623\n",
      "Go                  577\n",
      "C                   491\n",
      "                  count\n",
      "Python              563\n",
      "TypeScript          271\n",
      "JavaScript          268\n",
      "Go                  157\n",
      "Dart                153\n",
      "PHP                 141\n",
      "C++                 120\n",
      "C                    84\n",
      "Rust                 82\n",
      "Jupyter Notebook     69\n",
      "            count\n",
      "Python        274\n",
      "TypeScript    179\n",
      "JavaScript    124\n",
      "PHP           110\n",
      "Go            101\n",
      "Rust           55\n",
      "C++            49\n",
      "Dart           40\n",
      "C              36\n",
      "C#             30\n",
      "run time: 3618.131397485733 seconds\n",
      "2022-06-07 14:58:34.266 INFO  [140684370544384] ProducerStatsImpl:92 | Producer [persistent://public/default/request_scalability_w3, ] , ProducerStatsImpl (numMsgsSent_ = 0, numBytesSent_ = 0, sendMap_ = {}, latencyAccumulator_ = Latencies [ 50pct: 0ms, 90pct: 0ms, 99pct: 0ms, 99.9pct: 0ms], totalMsgsSent_ = 57, totalBytesSent_ = 657, totalAcksReceived_ = , totalSendMap_ = {[Key: Ok, Value: 57], }, totalLatencyAccumulator_ = Latencies [ 50pct: 1.84496ms, 90pct: 2.26818ms, 99pct: 2.58954ms, 99.9pct: 3.89388ms])\n",
      "2022-06-07 14:58:35.002 INFO  [140684370544384] ConsumerStatsImpl:70 | Consumer [persistent://public/default/response_one, client, 0] , ConsumerStatsImpl (numBytesRecieved_ = 396, totalNumBytesRecieved_ = 27443, receivedMsgMap_ = {[Key: Ok, Value: 1], }, ackedMsgMap_ = {[Key: {Result: Ok, ackType: 0}, Value: 1], }, totalReceivedMsgMap_ = {[Key: Ok, Value: 57], }, totalAckedMsgMap_ = {[Key: {Result: Ok, ackType: 0}, Value: 57], })\n",
      "2022-06-07 14:58:35.010 INFO  [140684370544384] ConsumerStatsImpl:70 | Consumer [persistent://public/default/response_two, client, 1] , ConsumerStatsImpl (numBytesRecieved_ = 1682, totalNumBytesRecieved_ = 92776, receivedMsgMap_ = {[Key: Ok, Value: 1], }, ackedMsgMap_ = {[Key: {Result: Ok, ackType: 0}, Value: 1], }, totalReceivedMsgMap_ = {[Key: Ok, Value: 57], }, totalAckedMsgMap_ = {[Key: {Result: Ok, ackType: 0}, Value: 57], })\n",
      "2022-06-07 14:58:35.018 INFO  [140684370544384] ConsumerStatsImpl:70 | Consumer [persistent://public/default/response_three, client, 2] , ConsumerStatsImpl (numBytesRecieved_ = 255, totalNumBytesRecieved_ = 11740, receivedMsgMap_ = {[Key: Ok, Value: 1], }, ackedMsgMap_ = {[Key: {Result: Ok, ackType: 0}, Value: 1], }, totalReceivedMsgMap_ = {[Key: Ok, Value: 57], }, totalAckedMsgMap_ = {[Key: {Result: Ok, ackType: 0}, Value: 57], })\n",
      "2022-06-07 14:58:35.022 INFO  [140684370544384] ConsumerStatsImpl:70 | Consumer [persistent://public/default/response_four, client, 3] , ConsumerStatsImpl (numBytesRecieved_ = 96, totalNumBytesRecieved_ = 8135, receivedMsgMap_ = {[Key: Ok, Value: 1], }, ackedMsgMap_ = {[Key: {Result: Ok, ackType: 0}, Value: 1], }, totalReceivedMsgMap_ = {[Key: Ok, Value: 57], }, totalAckedMsgMap_ = {[Key: {Result: Ok, ackType: 0}, Value: 57], })\n",
      "2022-06-07 15:08:34.266 INFO  [140684370544384] ProducerStatsImpl:92 | Producer [persistent://public/default/request_scalability_w3, ] , ProducerStatsImpl (numMsgsSent_ = 0, numBytesSent_ = 0, sendMap_ = {}, latencyAccumulator_ = Latencies [ 50pct: 0ms, 90pct: 0ms, 99pct: 0ms, 99.9pct: 0ms], totalMsgsSent_ = 57, totalBytesSent_ = 657, totalAcksReceived_ = , totalSendMap_ = {[Key: Ok, Value: 57], }, totalLatencyAccumulator_ = Latencies [ 50pct: 1.84496ms, 90pct: 2.26818ms, 99pct: 2.58954ms, 99.9pct: 3.89388ms])\n",
      "2022-06-07 15:08:35.003 INFO  [140684370544384] ConsumerStatsImpl:70 | Consumer [persistent://public/default/response_one, client, 0] , ConsumerStatsImpl (numBytesRecieved_ = 0, totalNumBytesRecieved_ = 27443, receivedMsgMap_ = {}, ackedMsgMap_ = {}, totalReceivedMsgMap_ = {[Key: Ok, Value: 57], }, totalAckedMsgMap_ = {[Key: {Result: Ok, ackType: 0}, Value: 57], })\n",
      "2022-06-07 15:08:35.011 INFO  [140684370544384] ConsumerStatsImpl:70 | Consumer [persistent://public/default/response_two, client, 1] , ConsumerStatsImpl (numBytesRecieved_ = 0, totalNumBytesRecieved_ = 92776, receivedMsgMap_ = {}, ackedMsgMap_ = {}, totalReceivedMsgMap_ = {[Key: Ok, Value: 57], }, totalAckedMsgMap_ = {[Key: {Result: Ok, ackType: 0}, Value: 57], })\n",
      "2022-06-07 15:08:35.018 INFO  [140684370544384] ConsumerStatsImpl:70 | Consumer [persistent://public/default/response_three, client, 2] , ConsumerStatsImpl (numBytesRecieved_ = 0, totalNumBytesRecieved_ = 11740, receivedMsgMap_ = {}, ackedMsgMap_ = {}, totalReceivedMsgMap_ = {[Key: Ok, Value: 57], }, totalAckedMsgMap_ = {[Key: {Result: Ok, ackType: 0}, Value: 57], })\n",
      "2022-06-07 15:08:35.023 INFO  [140684370544384] ConsumerStatsImpl:70 | Consumer [persistent://public/default/response_four, client, 3] , ConsumerStatsImpl (numBytesRecieved_ = 0, totalNumBytesRecieved_ = 8135, receivedMsgMap_ = {}, ackedMsgMap_ = {}, totalReceivedMsgMap_ = {[Key: Ok, Value: 57], }, totalAckedMsgMap_ = {[Key: {Result: Ok, ackType: 0}, Value: 57], })\n",
      "2022-06-07 15:18:34.267 INFO  [140684370544384] ProducerStatsImpl:92 | Producer [persistent://public/default/request_scalability_w3, ] , ProducerStatsImpl (numMsgsSent_ = 0, numBytesSent_ = 0, sendMap_ = {}, latencyAccumulator_ = Latencies [ 50pct: 0ms, 90pct: 0ms, 99pct: 0ms, 99.9pct: 0ms], totalMsgsSent_ = 57, totalBytesSent_ = 657, totalAcksReceived_ = , totalSendMap_ = {[Key: Ok, Value: 57], }, totalLatencyAccumulator_ = Latencies [ 50pct: 1.84496ms, 90pct: 2.26818ms, 99pct: 2.58954ms, 99.9pct: 3.89388ms])\n",
      "2022-06-07 15:18:35.003 INFO  [140684370544384] ConsumerStatsImpl:70 | Consumer [persistent://public/default/response_one, client, 0] , ConsumerStatsImpl (numBytesRecieved_ = 0, totalNumBytesRecieved_ = 27443, receivedMsgMap_ = {}, ackedMsgMap_ = {}, totalReceivedMsgMap_ = {[Key: Ok, Value: 57], }, totalAckedMsgMap_ = {[Key: {Result: Ok, ackType: 0}, Value: 57], })\n",
      "2022-06-07 15:18:35.011 INFO  [140684370544384] ConsumerStatsImpl:70 | Consumer [persistent://public/default/response_two, client, 1] , ConsumerStatsImpl (numBytesRecieved_ = 0, totalNumBytesRecieved_ = 92776, receivedMsgMap_ = {}, ackedMsgMap_ = {}, totalReceivedMsgMap_ = {[Key: Ok, Value: 57], }, totalAckedMsgMap_ = {[Key: {Result: Ok, ackType: 0}, Value: 57], })\n",
      "2022-06-07 15:18:35.019 INFO  [140684370544384] ConsumerStatsImpl:70 | Consumer [persistent://public/default/response_three, client, 2] , ConsumerStatsImpl (numBytesRecieved_ = 0, totalNumBytesRecieved_ = 11740, receivedMsgMap_ = {}, ackedMsgMap_ = {}, totalReceivedMsgMap_ = {[Key: Ok, Value: 57], }, totalAckedMsgMap_ = {[Key: {Result: Ok, ackType: 0}, Value: 57], })\n",
      "2022-06-07 15:18:35.023 INFO  [140684370544384] ConsumerStatsImpl:70 | Consumer [persistent://public/default/response_four, client, 3] , ConsumerStatsImpl (numBytesRecieved_ = 0, totalNumBytesRecieved_ = 8135, receivedMsgMap_ = {}, ackedMsgMap_ = {}, totalReceivedMsgMap_ = {[Key: Ok, Value: 57], }, totalAckedMsgMap_ = {[Key: {Result: Ok, ackType: 0}, Value: 57], })\n"
     ]
    }
   ],
   "source": [
    "while True:\n",
    "    # merge top ranking programming languages\n",
    "    msg = consumer_one.receive()\n",
    "    consumer_one.acknowledge(msg)\n",
    "    prog_lang = json.loads(msg.data().decode(\"utf-8\"))\n",
    "    prog_dict = aggregate_dicts(prog_dict, prog_lang)\n",
    "    \n",
    "    # List top commits\n",
    "    msg = consumer_two.receive()\n",
    "    consumer_two.acknowledge(msg)\n",
    "    top_repos.extend(json.loads(msg.data().decode(\"utf-8\")))\n",
    "    top_repos = sorted(top_repos, key=lambda tup: tup[1], reverse=True)\n",
    "    top_repos = top_repos[:10]\n",
    "\n",
    "    # Show total test\n",
    "    msg = consumer_three.receive()\n",
    "    consumer_three.acknowledge(msg)\n",
    "    print(msg.data().decode(\"utf-8\"))\n",
    "    test_prog_lang = json.loads(msg.data().decode(\"utf-8\"))\n",
    "    test_prog_dict = aggregate_dicts(test_prog_dict, test_prog_lang)\n",
    "    \n",
    "    # Show total test + devops\n",
    "    msg = consumer_four.receive()\n",
    "    consumer_four.acknowledge(msg)\n",
    "    devop_prog_lang = json.loads(msg.data().decode(\"utf-8\"))\n",
    "    devop_prog_dict = aggregate_dicts(devop_prog_dict, devop_prog_lang)\n",
    "    \n",
    "    clear_output(wait=True)\n",
    "    \n",
    "    print(top_repos[:10])\n",
    "    prog_dict_df = parse_dict(prog_dict)\n",
    "    print(prog_dict_df.iloc[:10])\n",
    "    print(parse_dict(test_prog_dict).iloc[:10])\n",
    "    print(parse_dict(devop_prog_dict).iloc[:10])\n",
    "    print(\"run time: %s seconds\" % (time.time() - start_time))"
   ]
  },
  {
   "cell_type": "code",
   "execution_count": null,
   "id": "b780006a",
   "metadata": {},
   "outputs": [],
   "source": [
    "client.close()"
   ]
  },
  {
   "cell_type": "code",
   "execution_count": null,
   "id": "33dabaf0",
   "metadata": {},
   "outputs": [],
   "source": []
  }
 ],
 "metadata": {
  "kernelspec": {
   "display_name": "Python 3 (ipykernel)",
   "language": "python",
   "name": "python3"
  },
  "language_info": {
   "codemirror_mode": {
    "name": "ipython",
    "version": 3
   },
   "file_extension": ".py",
   "mimetype": "text/x-python",
   "name": "python",
   "nbconvert_exporter": "python",
   "pygments_lexer": "ipython3",
   "version": "3.8.10"
  }
 },
 "nbformat": 4,
 "nbformat_minor": 5
}
