{
 "cells": [
  {
   "cell_type": "code",
   "execution_count": 1,
   "id": "f36a4e59",
   "metadata": {},
   "outputs": [],
   "source": [
    "import pulsar\n",
    "import json\n",
    "import matplotlib.pyplot as plt\n",
    "import pandas as pd\n",
    "from IPython.display import clear_output\n",
    "import time"
   ]
  },
  {
   "cell_type": "code",
   "execution_count": 2,
   "id": "aec4e3f3",
   "metadata": {},
   "outputs": [],
   "source": [
    "client = pulsar.Client('pulsar://localhost:6650')"
   ]
  },
  {
   "cell_type": "code",
   "execution_count": 3,
   "id": "ae0c6e0b",
   "metadata": {},
   "outputs": [
    {
     "name": "stdout",
     "output_type": "stream",
     "text": [
      "2022-06-06 21:34:48.703 INFO  [139787335300928] ConnectionPool:85 | Created connection for pulsar://localhost:6650\n",
      "2022-06-06 21:34:48.706 INFO  [139786381453056] ClientConnection:356 | [127.0.0.1:52064 -> 127.0.0.1:6650] Connected to broker\n",
      "2022-06-06 21:34:48.717 INFO  [139786381453056] HandlerBase:54 | [persistent://public/default/request, ] Getting connection from pool\n",
      "2022-06-06 21:34:48.722 INFO  [139786381453056] ProducerImpl:170 | [persistent://public/default/request, ] Created producer on broker [127.0.0.1:52064 -> 127.0.0.1:6650] \n"
     ]
    }
   ],
   "source": [
    "producer = client.create_producer('request')"
   ]
  },
  {
   "cell_type": "code",
   "execution_count": 4,
   "id": "a2b0f748",
   "metadata": {},
   "outputs": [],
   "source": [
    "total_data = 85400"
   ]
  },
  {
   "cell_type": "code",
   "execution_count": 5,
   "id": "b7cfff76",
   "metadata": {},
   "outputs": [],
   "source": [
    "test_stack = []\n",
    "\n",
    "# Divides the request into batches and sends it to the analysis nodes\n",
    "def makeRequest(data_size, batch_size=264):\n",
    "    temp_total = data_size\n",
    "    start_index = 0\n",
    "    if not (0 < data_size < 365000):\n",
    "        raise ValueError(\"Data Size not available!\")\n",
    "    while data_size > 0:\n",
    "        if data_size - batch_size < 0:\n",
    "            batch_size = data_size\n",
    "        next_index = start_index\n",
    "        next_index += batch_size\n",
    "        producer.send((f\"{start_index} - {next_index}\").encode('utf-8'))\n",
    "        #test_stack.append(f\"{start_index} - {next_index}\")\n",
    "        start_index = next_index + 1\n",
    "        data_size -= batch_size + 1"
   ]
  },
  {
   "cell_type": "code",
   "execution_count": 6,
   "id": "070b3b0f",
   "metadata": {},
   "outputs": [],
   "source": [
    "def aggregate_dicts(dict_a, dict_b):\n",
    "    for key in dict_b.keys():\n",
    "        if key not in dict_a.keys():\n",
    "            dict_a[key] = int(dict_b[key])\n",
    "        else:\n",
    "            dict_a[key] += int(dict_b[key])\n",
    "    return dict_a\n",
    "\n",
    "def parse_dict(prog_dict):\n",
    "    prog_df = pd.DataFrame.from_dict(prog_dict, orient='index', columns=[\"count\"])\n",
    "    prog_df = prog_df.sort_values(\"count\", ascending=False)\n",
    "    return prog_df"
   ]
  },
  {
   "cell_type": "code",
   "execution_count": 7,
   "id": "c876bbc2",
   "metadata": {},
   "outputs": [],
   "source": [
    "start_time = time.time()"
   ]
  },
  {
   "cell_type": "code",
   "execution_count": 8,
   "id": "f1cb0615",
   "metadata": {},
   "outputs": [
    {
     "name": "stdout",
     "output_type": "stream",
     "text": [
      "2022-06-06 21:34:49.410 INFO  [139787335300928] Client:88 | Subscribing on Topic :response_one\n",
      "2022-06-06 21:34:49.416 INFO  [139786381453056] HandlerBase:54 | [persistent://public/default/response_one, client, 0] Getting connection from pool\n",
      "2022-06-06 21:34:49.422 INFO  [139786381453056] ConsumerImpl:216 | [persistent://public/default/response_one, client, 0] Created consumer on broker [127.0.0.1:52064 -> 127.0.0.1:6650] \n",
      "2022-06-06 21:34:49.422 INFO  [139787335300928] Client:88 | Subscribing on Topic :response_two\n",
      "2022-06-06 21:34:49.424 INFO  [139786381453056] HandlerBase:54 | [persistent://public/default/response_two, client, 1] Getting connection from pool\n",
      "2022-06-06 21:34:49.426 INFO  [139786381453056] ConsumerImpl:216 | [persistent://public/default/response_two, client, 1] Created consumer on broker [127.0.0.1:52064 -> 127.0.0.1:6650] \n",
      "2022-06-06 21:34:49.431 INFO  [139787335300928] Client:88 | Subscribing on Topic :response_three\n",
      "2022-06-06 21:34:49.433 INFO  [139786381453056] HandlerBase:54 | [persistent://public/default/response_three, client, 2] Getting connection from pool\n",
      "2022-06-06 21:34:49.435 INFO  [139786381453056] ConsumerImpl:216 | [persistent://public/default/response_three, client, 2] Created consumer on broker [127.0.0.1:52064 -> 127.0.0.1:6650] \n",
      "2022-06-06 21:34:49.436 INFO  [139787335300928] Client:88 | Subscribing on Topic :response_four\n",
      "2022-06-06 21:34:49.438 INFO  [139786381453056] HandlerBase:54 | [persistent://public/default/response_four, client, 3] Getting connection from pool\n",
      "2022-06-06 21:34:49.440 INFO  [139786381453056] ConsumerImpl:216 | [persistent://public/default/response_four, client, 3] Created consumer on broker [127.0.0.1:52064 -> 127.0.0.1:6650] \n"
     ]
    }
   ],
   "source": [
    "consumer_one = client.subscribe('response_one', subscription_name='client')\n",
    "consumer_two = client.subscribe('response_two', subscription_name='client')\n",
    "consumer_three = client.subscribe('response_three', subscription_name='client')\n",
    "consumer_four = client.subscribe('response_four', subscription_name='client')"
   ]
  },
  {
   "cell_type": "code",
   "execution_count": 9,
   "id": "53e610d5",
   "metadata": {},
   "outputs": [],
   "source": [
    "makeRequest(10000)\n",
    "# for weak scalability: makeRequest(5000), makeRequest(10000), makeRequest(15000)"
   ]
  },
  {
   "cell_type": "code",
   "execution_count": 10,
   "id": "6a87461f",
   "metadata": {},
   "outputs": [],
   "source": [
    "prog_dict = {}\n",
    "test_prog_dict = {}\n",
    "devop_prog_dict = {}\n",
    "top_repos = []\n",
    "total_num = 0\n",
    "total_test = 0\n",
    "total_devop_test = 0"
   ]
  },
  {
   "cell_type": "code",
   "execution_count": null,
   "id": "44811eec",
   "metadata": {
    "scrolled": false
   },
   "outputs": [
    {
     "name": "stdout",
     "output_type": "stream",
     "text": [
      "[['https://github.com/fabianishere/udm-kernel', 799619], ['https://github.com/leaningtech/cheerp-compiler', 423988], ['https://github.com/Status-Plus/StatusPlus', 396098], ['https://github.com/GiorgioComitini/COVID-19', 107359], ['https://github.com/vlggms/tegustation', 79729], ['https://github.com/feravolt/Brutal_busybox', 16916], ['https://github.com/pyiron/pyiron_atomistics', 9064], ['https://github.com/mantinedev/mantine', 7282], ['https://github.com/kraflab/dsda-doom', 5929], ['https://github.com/gbif/hp-colombian-biodiversity', 5445]]\n",
      "                  count\n",
      "Python             2005\n",
      "JavaScript         1404\n",
      "TypeScript          764\n",
      "Java                524\n",
      "C++                 503\n",
      "C#                  484\n",
      "Jupyter Notebook    466\n",
      "HTML                424\n",
      "Go                  403\n",
      "C                   330\n",
      "                  count\n",
      "Python              363\n",
      "TypeScript          200\n",
      "JavaScript          183\n",
      "Dart                113\n",
      "Go                  112\n",
      "PHP                  97\n",
      "C++                  77\n",
      "C                    59\n",
      "Rust                 53\n",
      "Jupyter Notebook     46\n",
      "            count\n",
      "Python        181\n",
      "TypeScript    148\n",
      "JavaScript     82\n",
      "PHP            74\n",
      "Go             68\n",
      "Rust           30\n",
      "Dart           30\n",
      "C++            27\n",
      "C              24\n",
      "HTML           23\n",
      "run time: 6771.336934089661 seconds\n"
     ]
    }
   ],
   "source": [
    "while True:\n",
    "    # merge top ranking programming languages\n",
    "    msg = consumer_one.receive()\n",
    "    consumer_one.acknowledge(msg)\n",
    "    prog_lang = json.loads(msg.data().decode(\"utf-8\"))\n",
    "    prog_dict = aggregate_dicts(prog_dict, prog_lang)\n",
    "    \n",
    "    # List top commits\n",
    "    msg = consumer_two.receive()\n",
    "    consumer_two.acknowledge(msg)\n",
    "    top_repos.extend(json.loads(msg.data().decode(\"utf-8\")))\n",
    "    top_repos = sorted(top_repos, key=lambda tup: tup[1], reverse=True)\n",
    "    top_repos = top_repos[:10]\n",
    "\n",
    "    # Show total test\n",
    "    msg = consumer_three.receive()\n",
    "    consumer_three.acknowledge(msg)\n",
    "    print(msg.data().decode(\"utf-8\"))\n",
    "    test_prog_lang = json.loads(msg.data().decode(\"utf-8\"))\n",
    "    test_prog_dict = aggregate_dicts(test_prog_dict, test_prog_lang)\n",
    "    \n",
    "    # Show total test + devops\n",
    "    msg = consumer_four.receive()\n",
    "    consumer_four.acknowledge(msg)\n",
    "    devop_prog_lang = json.loads(msg.data().decode(\"utf-8\"))\n",
    "    devop_prog_dict = aggregate_dicts(devop_prog_dict, devop_prog_lang)\n",
    "    \n",
    "    clear_output(wait=True)\n",
    "    \n",
    "    print(top_repos[:10])\n",
    "    prog_dict_df = parse_dict(prog_dict)\n",
    "    print(prog_dict_df.iloc[:10])\n",
    "    print(parse_dict(test_prog_dict).iloc[:10])\n",
    "    print(parse_dict(devop_prog_dict).iloc[:10])\n",
    "    print(\"run time: %s seconds\" % (time.time() - start_time))"
   ]
  },
  {
   "cell_type": "code",
   "execution_count": null,
   "id": "b780006a",
   "metadata": {},
   "outputs": [],
   "source": [
    "client.close()"
   ]
  },
  {
   "cell_type": "code",
   "execution_count": null,
   "id": "33dabaf0",
   "metadata": {},
   "outputs": [],
   "source": []
  }
 ],
 "metadata": {
  "kernelspec": {
   "display_name": "Python 3 (ipykernel)",
   "language": "python",
   "name": "python3"
  },
  "language_info": {
   "codemirror_mode": {
    "name": "ipython",
    "version": 3
   },
   "file_extension": ".py",
   "mimetype": "text/x-python",
   "name": "python",
   "nbconvert_exporter": "python",
   "pygments_lexer": "ipython3",
   "version": "3.8.10"
  }
 },
 "nbformat": 4,
 "nbformat_minor": 5
}
