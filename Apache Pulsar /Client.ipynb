{
 "cells": [
  {
   "cell_type": "code",
   "execution_count": 13,
   "id": "f36a4e59",
   "metadata": {},
   "outputs": [],
   "source": [
    "import pulsar\n",
    "import json\n",
    "import matplotlib.pyplot as plt\n",
    "import pandas as pd\n",
    "from IPython.display import clear_output"
   ]
  },
  {
   "cell_type": "code",
   "execution_count": 14,
   "id": "aec4e3f3",
   "metadata": {},
   "outputs": [],
   "source": [
    "client = pulsar.Client('pulsar://localhost:6650')"
   ]
  },
  {
   "cell_type": "code",
   "execution_count": 15,
   "id": "ae0c6e0b",
   "metadata": {},
   "outputs": [
    {
     "name": "stdout",
     "output_type": "stream",
     "text": [
      "2022-05-31 15:47:26.057 INFO  [140485261166400] ConnectionPool:85 | Created connection for pulsar://localhost:6650\n",
      "2022-05-31 15:47:26.060 INFO  [140484219500288] ClientConnection:356 | [127.0.0.1:33858 -> 127.0.0.1:6650] Connected to broker\n",
      "2022-05-31 15:47:26.075 INFO  [140484219500288] HandlerBase:54 | [persistent://public/default/request, ] Getting connection from pool\n",
      "2022-05-31 15:47:26.084 INFO  [140484219500288] ProducerImpl:170 | [persistent://public/default/request, ] Created producer on broker [127.0.0.1:33858 -> 127.0.0.1:6650] \n"
     ]
    }
   ],
   "source": [
    "producer = client.create_producer('request')"
   ]
  },
  {
   "cell_type": "code",
   "execution_count": 16,
   "id": "a2b0f748",
   "metadata": {},
   "outputs": [],
   "source": [
    "total_data = 2000"
   ]
  },
  {
   "cell_type": "code",
   "execution_count": 17,
   "id": "b7cfff76",
   "metadata": {},
   "outputs": [],
   "source": [
    "test_stack = []\n",
    "\n",
    "# Divides the request into batches and sends it to the analysis nodes\n",
    "def makeRequest(data_size, batch_size=264):\n",
    "    temp_total = data_size\n",
    "    start_index = 0\n",
    "    if not (0 < data_size < 365000):\n",
    "        raise ValueError(\"Data Size not available!\")\n",
    "    while data_size > 0:\n",
    "        if data_size - batch_size < 0:\n",
    "            batch_size = data_size\n",
    "        next_index = start_index\n",
    "        next_index += batch_size\n",
    "        producer.send((f\"{start_index} - {next_index}\").encode('utf-8'))\n",
    "        #test_stack.append(f\"{start_index} - {next_index}\")\n",
    "        start_index = next_index + 1\n",
    "        data_size -= batch_size + 1"
   ]
  },
  {
   "cell_type": "code",
   "execution_count": 18,
   "id": "53e610d5",
   "metadata": {},
   "outputs": [],
   "source": [
    "makeRequest(2000)"
   ]
  },
  {
   "cell_type": "code",
   "execution_count": 19,
   "id": "070b3b0f",
   "metadata": {},
   "outputs": [],
   "source": [
    "def aggregate_dicts(dict_a, dict_b):\n",
    "    for key in dict_b.keys():\n",
    "        if key not in dict_a.keys():\n",
    "            dict_a[key] = int(dict_b[key])\n",
    "        else:\n",
    "            dict_a[key] += int(dict_b[key])\n",
    "    return dict_a\n",
    "\n",
    "def parse_dict(prog_dict):\n",
    "    prog_df = pd.DataFrame.from_dict(prog_dict, orient='index', columns=[\"count\"])\n",
    "    prog_df = prog_df.sort_values(\"count\", ascending=False)\n",
    "    return prog_df"
   ]
  },
  {
   "cell_type": "code",
   "execution_count": 20,
   "id": "f1cb0615",
   "metadata": {},
   "outputs": [
    {
     "name": "stdout",
     "output_type": "stream",
     "text": [
      "2022-05-31 15:47:29.621 INFO  [140485261166400] Client:88 | Subscribing on Topic :response_one\n",
      "2022-05-31 15:47:29.627 INFO  [140484219500288] HandlerBase:54 | [persistent://public/default/response_one, client, 0] Getting connection from pool\n",
      "2022-05-31 15:47:29.631 INFO  [140484219500288] ConsumerImpl:216 | [persistent://public/default/response_one, client, 0] Created consumer on broker [127.0.0.1:33858 -> 127.0.0.1:6650] \n",
      "2022-05-31 15:47:29.632 INFO  [140485261166400] Client:88 | Subscribing on Topic :response_two\n",
      "2022-05-31 15:47:29.648 INFO  [140484219500288] HandlerBase:54 | [persistent://public/default/response_two, client, 1] Getting connection from pool\n",
      "2022-05-31 15:47:29.653 INFO  [140484219500288] ConsumerImpl:216 | [persistent://public/default/response_two, client, 1] Created consumer on broker [127.0.0.1:33858 -> 127.0.0.1:6650] \n",
      "2022-05-31 15:47:29.653 INFO  [140485261166400] Client:88 | Subscribing on Topic :response_three\n",
      "2022-05-31 15:47:29.661 INFO  [140484219500288] HandlerBase:54 | [persistent://public/default/response_three, client, 2] Getting connection from pool\n",
      "2022-05-31 15:47:29.665 INFO  [140484219500288] ConsumerImpl:216 | [persistent://public/default/response_three, client, 2] Created consumer on broker [127.0.0.1:33858 -> 127.0.0.1:6650] \n",
      "2022-05-31 15:47:29.665 INFO  [140485261166400] Client:88 | Subscribing on Topic :response_four\n",
      "2022-05-31 15:47:29.670 INFO  [140484219500288] HandlerBase:54 | [persistent://public/default/response_four, client, 3] Getting connection from pool\n",
      "2022-05-31 15:47:29.674 INFO  [140484219500288] ConsumerImpl:216 | [persistent://public/default/response_four, client, 3] Created consumer on broker [127.0.0.1:33858 -> 127.0.0.1:6650] \n"
     ]
    }
   ],
   "source": [
    "consumer_one = client.subscribe('response_one', subscription_name='client')\n",
    "consumer_two = client.subscribe('response_two', subscription_name='client')\n",
    "consumer_three = client.subscribe('response_three', subscription_name='client')\n",
    "consumer_four = client.subscribe('response_four', subscription_name='client')"
   ]
  },
  {
   "cell_type": "code",
   "execution_count": null,
   "id": "44811eec",
   "metadata": {},
   "outputs": [
    {
     "name": "stdout",
     "output_type": "stream",
     "text": [
      "[['https://github.com/bestguy/svelte-solardial', 8], ['https://github.com/Hephaest/time-series-shapelet', 9], ['https://github.com/gregwhitaker/springboot-video-example', 9], ['https://github.com/Iduozmsn/goJava', 9], ['https://github.com/vegawidget/vegadown', 13], ['https://github.com/andiksetyawan/rest-api-boilerplate-go', 14], ['https://github.com/Ben2277/gosqltree', 16], ['https://github.com/bentasker/Golang-SSH-Tarpit', 17], ['https://github.com/EgorDm/NotionSy', 17], ['https://github.com/mamtajha-ts/k8s-4days', 17]]\n",
      "                  count\n",
      "Python              234\n",
      "JavaScript          163\n",
      "None                135\n",
      "TypeScript          103\n",
      "C++                  64\n",
      "Java                 62\n",
      "C#                   55\n",
      "HTML                 54\n",
      "Jupyter Notebook     52\n",
      "Go                   41\n",
      "206 / 1325\n",
      "163 / 1325\n",
      "1325\n",
      "2022-05-31 16:27:26.078 INFO  [140484219500288] ProducerStatsImpl:92 | Producer [persistent://public/default/request, ] , ProducerStatsImpl (numMsgsSent_ = 0, numBytesSent_ = 0, sendMap_ = {}, latencyAccumulator_ = Latencies [ 50pct: 0ms, 90pct: 0ms, 99pct: 0ms, 99.9pct: 0ms], totalMsgsSent_ = 8, totalBytesSent_ = 79, totalAcksReceived_ = , totalSendMap_ = {[Key: Ok, Value: 8], }, totalLatencyAccumulator_ = Latencies [ 50pct: 2.247ms, 90pct: 2.32ms, 99pct: 7.799ms, 99.9pct: 0ms])\n",
      "2022-05-31 16:27:29.629 INFO  [140484219500288] ConsumerStatsImpl:70 | Consumer [persistent://public/default/response_one, client, 0] , ConsumerStatsImpl (numBytesRecieved_ = 563, totalNumBytesRecieved_ = 5134, receivedMsgMap_ = {[Key: Ok, Value: 1], }, ackedMsgMap_ = {}, totalReceivedMsgMap_ = {[Key: Ok, Value: 10], }, totalAckedMsgMap_ = {})\n",
      "2022-05-31 16:27:29.650 INFO  [140484219500288] ConsumerStatsImpl:70 | Consumer [persistent://public/default/response_two, client, 1] , ConsumerStatsImpl (numBytesRecieved_ = 1550, totalNumBytesRecieved_ = 16107, receivedMsgMap_ = {[Key: Ok, Value: 1], }, ackedMsgMap_ = {}, totalReceivedMsgMap_ = {[Key: Ok, Value: 10], }, totalAckedMsgMap_ = {})\n",
      "2022-05-31 16:27:29.662 INFO  [140484219500288] ConsumerStatsImpl:70 | Consumer [persistent://public/default/response_three, client, 2] , ConsumerStatsImpl (numBytesRecieved_ = 8, totalNumBytesRecieved_ = 136, receivedMsgMap_ = {[Key: Ok, Value: 1], }, ackedMsgMap_ = {}, totalReceivedMsgMap_ = {[Key: Ok, Value: 17], }, totalAckedMsgMap_ = {})\n",
      "2022-05-31 16:27:29.672 INFO  [140484219500288] ConsumerStatsImpl:70 | Consumer [persistent://public/default/response_four, client, 3] , ConsumerStatsImpl (numBytesRecieved_ = 0, totalNumBytesRecieved_ = 0, receivedMsgMap_ = {}, ackedMsgMap_ = {}, totalReceivedMsgMap_ = {}, totalAckedMsgMap_ = {})\n"
     ]
    }
   ],
   "source": [
    "prog_dict = {}\n",
    "top_repos = []\n",
    "total_num = 0\n",
    "total_test = 0\n",
    "total_devop_test = 0\n",
    "\n",
    "while True:\n",
    "    # merge top ranking programming languages\n",
    "    prog_lang = json.loads(consumer_one.receive().data().decode(\"utf-8\"))\n",
    "    prog_dict = aggregate_dicts(prog_dict, prog_lang)\n",
    "    \n",
    "    # List top commits\n",
    "    top_repos.extend(json.loads(consumer_two.receive().data().decode(\"utf-8\")))\n",
    "    top_repos = sorted(top_repos, key=lambda tup: tup[1])\n",
    "    top_repos = top_repos[:10]\n",
    "\n",
    "    # Show total test\n",
    "    numbers = consumer_three.receive().data().decode(\"utf-8\").split(\" \")\n",
    "    total_test += int(numbers[0])\n",
    "    total_num += int(numbers[2])\n",
    "    \n",
    "    # Show total test + devops\n",
    "    numbers = consumer_three.receive().data().decode(\"utf-8\").split(\" \")\n",
    "    total_devop_test += int(numbers[0])\n",
    "    \n",
    "    clear_output(wait=True)\n",
    "    \n",
    "    print(top_repos[:10])\n",
    "    print(parse_dict(prog_dict).iloc[:10])\n",
    "    print(f\"{str(total_test)} / {str(total_num)}\")\n",
    "    print(f\"{str(total_devop_test)} / {str(total_num)}\")\n",
    "    print(total_num)\n",
    "    if total_num >= total_data:\n",
    "        break"
   ]
  },
  {
   "cell_type": "code",
   "execution_count": 12,
   "id": "b780006a",
   "metadata": {},
   "outputs": [
    {
     "name": "stdout",
     "output_type": "stream",
     "text": [
      "2022-05-31 15:41:08.629 INFO  [140485261166400] ClientImpl:483 | Closing Pulsar client\n",
      "2022-05-31 15:41:08.630 INFO  [140485261166400] ProducerImpl:546 | [persistent://public/default/request, standalone-0-43] Closing producer for topic persistent://public/default/request\n",
      "2022-05-31 15:41:08.630 INFO  [140485261166400] ConsumerImpl:884 | [persistent://public/default/response_one, client, 0] Closing consumer for topic persistent://public/default/response_one\n",
      "2022-05-31 15:41:08.630 INFO  [140485261166400] ConsumerImpl:884 | [persistent://public/default/response_two, client, 1] Closing consumer for topic persistent://public/default/response_two\n",
      "2022-05-31 15:41:08.630 INFO  [140485261166400] ConsumerImpl:884 | [persistent://public/default/response_three, client, 2] Closing consumer for topic persistent://public/default/response_three\n",
      "2022-05-31 15:41:08.631 INFO  [140485261166400] ConsumerImpl:884 | [persistent://public/default/response_four, client, 3] Closing consumer for topic persistent://public/default/response_four\n",
      "2022-05-31 15:41:08.635 INFO  [140484307330816] ProducerImpl:589 | [persistent://public/default/request, standalone-0-43] Closed producer\n",
      "2022-05-31 15:41:08.637 INFO  [140484307330816] ConsumerImpl:940 | [persistent://public/default/response_one, client, 0] Closed consumer 0\n",
      "2022-05-31 15:41:08.640 INFO  [140484307330816] ConsumerImpl:940 | [persistent://public/default/response_two, client, 1] Closed consumer 1\n",
      "2022-05-31 15:41:08.642 INFO  [140484307330816] ConsumerImpl:940 | [persistent://public/default/response_three, client, 2] Closed consumer 2\n",
      "2022-05-31 15:41:08.643 INFO  [140484307330816] ConsumerImpl:940 | [persistent://public/default/response_four, client, 3] Closed consumer 3\n",
      "2022-05-31 15:41:08.644 INFO  [140484307330816] ClientConnection:1428 | [127.0.0.1:33852 -> 127.0.0.1:6650] Connection closed\n"
     ]
    }
   ],
   "source": [
    "client.close()"
   ]
  },
  {
   "cell_type": "code",
   "execution_count": 25,
   "id": "185fe767",
   "metadata": {},
   "outputs": [
    {
     "data": {
      "text/plain": [
       "[[1], [2], [3]]"
      ]
     },
     "execution_count": 25,
     "metadata": {},
     "output_type": "execute_result"
    }
   ],
   "source": [
    "a = [[1],[2]]\n",
    "b = [[3]]\n",
    "a.extend(b)\n",
    "a"
   ]
  },
  {
   "cell_type": "code",
   "execution_count": null,
   "id": "4503c4f2",
   "metadata": {},
   "outputs": [],
   "source": []
  }
 ],
 "metadata": {
  "kernelspec": {
   "display_name": "Python 3 (ipykernel)",
   "language": "python",
   "name": "python3"
  },
  "language_info": {
   "codemirror_mode": {
    "name": "ipython",
    "version": 3
   },
   "file_extension": ".py",
   "mimetype": "text/x-python",
   "name": "python",
   "nbconvert_exporter": "python",
   "pygments_lexer": "ipython3",
   "version": "3.8.10"
  }
 },
 "nbformat": 4,
 "nbformat_minor": 5
}
