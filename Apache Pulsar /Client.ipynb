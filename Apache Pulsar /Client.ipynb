{
 "cells": [
  {
   "cell_type": "code",
   "execution_count": 18,
   "id": "f36a4e59",
   "metadata": {},
   "outputs": [],
   "source": [
    "import pulsar"
   ]
  },
  {
   "cell_type": "code",
   "execution_count": 19,
   "id": "aec4e3f3",
   "metadata": {},
   "outputs": [
    {
     "name": "stdout",
     "output_type": "stream",
     "text": [
      "2022-05-30 14:19:35.393 ERROR [139767119509248] ClientConnection:515 | [127.0.0.1:54284 -> 127.0.0.1:6650] Read failed: Operation canceled\n",
      "2022-05-30 14:19:35.394 INFO  [139767783630656] ClientConnection:1428 | [127.0.0.1:54284 -> 127.0.0.1:6650] Connection closed\n",
      "2022-05-30 14:19:35.394 INFO  [139767783630656] ClientConnection:245 | [127.0.0.1:54284 -> 127.0.0.1:6650] Destroyed connection\n"
     ]
    }
   ],
   "source": [
    "client = pulsar.Client('pulsar://localhost:6650')"
   ]
  },
  {
   "cell_type": "code",
   "execution_count": 20,
   "id": "ae0c6e0b",
   "metadata": {},
   "outputs": [
    {
     "name": "stdout",
     "output_type": "stream",
     "text": [
      "2022-05-30 14:19:50.817 INFO  [139767783630656] ConnectionPool:85 | Created connection for pulsar://localhost:6650\n",
      "2022-05-30 14:19:50.819 INFO  [139767119509248] ClientConnection:356 | [127.0.0.1:54298 -> 127.0.0.1:6650] Connected to broker\n",
      "2022-05-30 14:19:50.827 INFO  [139767119509248] HandlerBase:54 | [persistent://public/default/request, ] Getting connection from pool\n",
      "2022-05-30 14:19:50.834 INFO  [139767119509248] ProducerImpl:170 | [persistent://public/default/request, ] Created producer on broker [127.0.0.1:54298 -> 127.0.0.1:6650] \n",
      "2022-05-30 14:19:50.834 INFO  [139767783630656] ProducerImpl:527 | Producer - [persistent://public/default/request, standalone-0-2] , [batching  = off]\n"
     ]
    }
   ],
   "source": [
    "producer = client.create_producer('request')"
   ]
  },
  {
   "cell_type": "code",
   "execution_count": 21,
   "id": "a2b0f748",
   "metadata": {},
   "outputs": [],
   "source": [
    "total_data = 10000"
   ]
  },
  {
   "cell_type": "code",
   "execution_count": 22,
   "id": "b7cfff76",
   "metadata": {},
   "outputs": [],
   "source": [
    "test_stack = []\n",
    "\n",
    "# Divides the request into batches and sends it to the analysis nodes\n",
    "def makeRequest(data_size, batch_size=264):\n",
    "    temp_total = data_size\n",
    "    start_index = 0\n",
    "    if not (0 < data_size < 365000):\n",
    "        raise ValueError(\"Data Size not available!\")\n",
    "    while data_size > 0:\n",
    "        if data_size - batch_size < 0:\n",
    "            batch_size = data_size\n",
    "        next_index = start_index\n",
    "        next_index += batch_size\n",
    "        producer.send((f\"{start_index} - {next_index}\").encode('utf-8'))\n",
    "        #test_stack.append(f\"{start_index} - {next_index}\")\n",
    "        start_index = next_index + 1\n",
    "        data_size -= batch_size + 1"
   ]
  },
  {
   "cell_type": "code",
   "execution_count": 24,
   "id": "53e610d5",
   "metadata": {},
   "outputs": [],
   "source": [
    "makeRequest(20000)"
   ]
  },
  {
   "cell_type": "code",
   "execution_count": 25,
   "id": "1ceab628",
   "metadata": {},
   "outputs": [
    {
     "name": "stdout",
     "output_type": "stream",
     "text": [
      "2022-05-30 14:22:24.592 INFO  [139767783630656] ClientImpl:483 | Closing Pulsar client\n",
      "2022-05-30 14:22:24.592 INFO  [139767783630656] ProducerImpl:546 | [persistent://public/default/request, standalone-0-3] Closing producer for topic persistent://public/default/request\n",
      "2022-05-30 14:22:24.601 INFO  [139767119509248] ProducerImpl:589 | [persistent://public/default/request, standalone-0-3] Closed producer\n",
      "2022-05-30 14:22:24.601 INFO  [139767119509248] ClientConnection:1428 | [127.0.0.1:54298 -> 127.0.0.1:6650] Connection closed\n"
     ]
    }
   ],
   "source": [
    "client.close()"
   ]
  },
  {
   "cell_type": "code",
   "execution_count": null,
   "id": "7114f0e9",
   "metadata": {},
   "outputs": [],
   "source": []
  }
 ],
 "metadata": {
  "kernelspec": {
   "display_name": "Python 3 (ipykernel)",
   "language": "python",
   "name": "python3"
  },
  "language_info": {
   "codemirror_mode": {
    "name": "ipython",
    "version": 3
   },
   "file_extension": ".py",
   "mimetype": "text/x-python",
   "name": "python",
   "nbconvert_exporter": "python",
   "pygments_lexer": "ipython3",
   "version": "3.8.10"
  }
 },
 "nbformat": 4,
 "nbformat_minor": 5
}
