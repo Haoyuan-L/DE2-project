{
 "cells": [
  {
   "cell_type": "code",
   "execution_count": 2,
   "id": "f36a4e59",
   "metadata": {},
   "outputs": [],
   "source": [
    "import pulsar\n",
    "import json\n",
    "import matplotlib.pyplot as plt\n",
    "import pandas as pd\n",
    "from IPython.display import clear_output"
   ]
  },
  {
   "cell_type": "code",
   "execution_count": 3,
   "id": "aec4e3f3",
   "metadata": {},
   "outputs": [],
   "source": [
    "client = pulsar.Client('pulsar://localhost:6650')"
   ]
  },
  {
   "cell_type": "code",
   "execution_count": 4,
   "id": "ae0c6e0b",
   "metadata": {},
   "outputs": [
    {
     "name": "stdout",
     "output_type": "stream",
     "text": [
      "2022-06-04 11:23:15.621 INFO  [139850953791296] ConnectionPool:85 | Created connection for pulsar://localhost:6650\n",
      "2022-06-04 11:23:15.628 INFO  [139849988380416] ClientConnection:356 | [127.0.0.1:35930 -> 127.0.0.1:6650] Connected to broker\n",
      "2022-06-04 11:23:15.637 INFO  [139849988380416] HandlerBase:54 | [persistent://public/default/request, ] Getting connection from pool\n",
      "2022-06-04 11:23:15.655 INFO  [139849988380416] ProducerImpl:170 | [persistent://public/default/request, ] Created producer on broker [127.0.0.1:35930 -> 127.0.0.1:6650] \n"
     ]
    }
   ],
   "source": [
    "producer = client.create_producer('request')"
   ]
  },
  {
   "cell_type": "code",
   "execution_count": 5,
   "id": "a2b0f748",
   "metadata": {},
   "outputs": [],
   "source": [
    "total_data = 85400"
   ]
  },
  {
   "cell_type": "code",
   "execution_count": 6,
   "id": "b7cfff76",
   "metadata": {},
   "outputs": [],
   "source": [
    "test_stack = []\n",
    "\n",
    "# Divides the request into batches and sends it to the analysis nodes\n",
    "def makeRequest(data_size, batch_size=264):\n",
    "    temp_total = data_size\n",
    "    start_index = 0\n",
    "    if not (0 < data_size < 365000):\n",
    "        raise ValueError(\"Data Size not available!\")\n",
    "    while data_size > 0:\n",
    "        if data_size - batch_size < 0:\n",
    "            batch_size = data_size\n",
    "        next_index = start_index\n",
    "        next_index += batch_size\n",
    "        producer.send((f\"{start_index} - {next_index}\").encode('utf-8'))\n",
    "        #test_stack.append(f\"{start_index} - {next_index}\")\n",
    "        start_index = next_index + 1\n",
    "        data_size -= batch_size + 1"
   ]
  },
  {
   "cell_type": "code",
   "execution_count": 7,
   "id": "070b3b0f",
   "metadata": {},
   "outputs": [],
   "source": [
    "def aggregate_dicts(dict_a, dict_b):\n",
    "    for key in dict_b.keys():\n",
    "        if key not in dict_a.keys():\n",
    "            dict_a[key] = int(dict_b[key])\n",
    "        else:\n",
    "            dict_a[key] += int(dict_b[key])\n",
    "    return dict_a\n",
    "\n",
    "def parse_dict(prog_dict):\n",
    "    prog_df = pd.DataFrame.from_dict(prog_dict, orient='index', columns=[\"count\"])\n",
    "    prog_df = prog_df.sort_values(\"count\", ascending=False)\n",
    "    return prog_df"
   ]
  },
  {
   "cell_type": "code",
   "execution_count": 8,
   "id": "f1cb0615",
   "metadata": {},
   "outputs": [
    {
     "name": "stdout",
     "output_type": "stream",
     "text": [
      "2022-06-04 11:23:19.315 INFO  [139850953791296] Client:88 | Subscribing on Topic :response_one\n",
      "2022-06-04 11:23:19.327 INFO  [139849988380416] HandlerBase:54 | [persistent://public/default/response_one, client, 0] Getting connection from pool\n",
      "2022-06-04 11:23:19.330 INFO  [139849988380416] ConsumerImpl:216 | [persistent://public/default/response_one, client, 0] Created consumer on broker [127.0.0.1:35930 -> 127.0.0.1:6650] \n",
      "2022-06-04 11:23:19.331 INFO  [139850953791296] Client:88 | Subscribing on Topic :response_two\n",
      "2022-06-04 11:23:19.333 INFO  [139849988380416] HandlerBase:54 | [persistent://public/default/response_two, client, 1] Getting connection from pool\n",
      "2022-06-04 11:23:19.335 INFO  [139849988380416] ConsumerImpl:216 | [persistent://public/default/response_two, client, 1] Created consumer on broker [127.0.0.1:35930 -> 127.0.0.1:6650] \n",
      "2022-06-04 11:23:19.336 INFO  [139850953791296] Client:88 | Subscribing on Topic :response_three\n",
      "2022-06-04 11:23:19.340 INFO  [139849988380416] HandlerBase:54 | [persistent://public/default/response_three, client, 2] Getting connection from pool\n",
      "2022-06-04 11:23:19.343 INFO  [139849988380416] ConsumerImpl:216 | [persistent://public/default/response_three, client, 2] Created consumer on broker [127.0.0.1:35930 -> 127.0.0.1:6650] \n",
      "2022-06-04 11:23:19.343 INFO  [139850953791296] Client:88 | Subscribing on Topic :response_four\n",
      "2022-06-04 11:23:19.345 INFO  [139849988380416] HandlerBase:54 | [persistent://public/default/response_four, client, 3] Getting connection from pool\n",
      "2022-06-04 11:23:19.347 INFO  [139849988380416] ConsumerImpl:216 | [persistent://public/default/response_four, client, 3] Created consumer on broker [127.0.0.1:35930 -> 127.0.0.1:6650] \n"
     ]
    }
   ],
   "source": [
    "consumer_one = client.subscribe('response_one', subscription_name='client')\n",
    "consumer_two = client.subscribe('response_two', subscription_name='client')\n",
    "consumer_three = client.subscribe('response_three', subscription_name='client')\n",
    "consumer_four = client.subscribe('response_four', subscription_name='client')"
   ]
  },
  {
   "cell_type": "code",
   "execution_count": 8,
   "id": "53e610d5",
   "metadata": {},
   "outputs": [],
   "source": [
    "makeRequest(1000)"
   ]
  },
  {
   "cell_type": "code",
   "execution_count": 9,
   "id": "6a87461f",
   "metadata": {},
   "outputs": [],
   "source": [
    "prog_dict = {}\n",
    "test_prog_dict = {}\n",
    "devop_prog_dict = {}\n",
    "top_repos = []\n",
    "total_num = 0\n",
    "total_test = 0\n",
    "total_devop_test = 0"
   ]
  },
  {
   "cell_type": "code",
   "execution_count": null,
   "id": "44811eec",
   "metadata": {},
   "outputs": [
    {
     "name": "stdout",
     "output_type": "stream",
     "text": [
      "[['https://github.com/GiorgioComitini/COVID-19', 107359], ['https://github.com/YusufSuleman/piskel2', 1833], ['https://github.com/miroslavpejic85/mirotalk', 753], ['https://github.com/oxalica/rust-overlay', 631], ['https://github.com/Deweh/CyberCAT-SimpleGUI', 278], ['https://github.com/qirolab/laravel-themer', 82], ['https://github.com/restuwahyu13/express-payment-gateway', 72], ['https://github.com/oberblastmeister/neuron.nvim', 52], ['https://github.com/canyie/Riru-MomoHider', 48], ['https://github.com/metonym/svelte-pincode', 36]]\n",
      "                  count\n",
      "Python               98\n",
      "JavaScript           57\n",
      "TypeScript           49\n",
      "C++                  47\n",
      "Java                 23\n",
      "C#                   21\n",
      "Jupyter Notebook     19\n",
      "Go                   18\n",
      "HTML                 17\n",
      "C                    16\n",
      "                  count\n",
      "Python               15\n",
      "PHP                   8\n",
      "TypeScript            8\n",
      "Dart                  6\n",
      "Rust                  5\n",
      "C++                   5\n",
      "Go                    5\n",
      "JavaScript            4\n",
      "R                     4\n",
      "Jupyter Notebook      4\n",
      "                  count\n",
      "Python                7\n",
      "PHP                   7\n",
      "TypeScript            7\n",
      "R                     4\n",
      "Go                    4\n",
      "Dart                  3\n",
      "Shell                 3\n",
      "Vue                   3\n",
      "Jupyter Notebook      2\n",
      "C                     2\n"
     ]
    }
   ],
   "source": [
    "while True:\n",
    "    # merge top ranking programming languages\n",
    "    msg = consumer_one.receive()\n",
    "    consumer_one.acknowledge(msg)\n",
    "    prog_lang = json.loads(msg.data().decode(\"utf-8\"))\n",
    "    prog_dict = aggregate_dicts(prog_dict, prog_lang)\n",
    "    \n",
    "    # List top commits\n",
    "    msg = consumer_two.receive()\n",
    "    consumer_two.acknowledge(msg)\n",
    "    top_repos.extend(json.loads(msg.data().decode(\"utf-8\")))\n",
    "    top_repos = sorted(top_repos, key=lambda tup: tup[1], reverse=True)\n",
    "    top_repos = top_repos[:10]\n",
    "\n",
    "    # Show total test\n",
    "    msg = consumer_three.receive()\n",
    "    consumer_three.acknowledge(msg)\n",
    "    print(msg.data().decode(\"utf-8\"))\n",
    "    test_prog_lang = json.loads(msg.data().decode(\"utf-8\"))\n",
    "    test_prog_dict = aggregate_dicts(test_prog_dict, test_prog_lang)\n",
    "    \n",
    "    # Show total test + devops\n",
    "    msg = consumer_four.receive()\n",
    "    consumer_four.acknowledge(msg)\n",
    "    devop_prog_lang = json.loads(msg.data().decode(\"utf-8\"))\n",
    "    devop_prog_dict = aggregate_dicts(devop_prog_dict, devop_prog_lang)\n",
    "    \n",
    "    clear_output(wait=True)\n",
    "    \n",
    "    print(top_repos[:10])\n",
    "    prog_dict_df = parse_dict(prog_dict)\n",
    "    print(prog_dict_df.iloc[:10])\n",
    "    print(parse_dict(test_prog_dict).iloc[:10])\n",
    "    print(parse_dict(devop_prog_dict).iloc[:10])"
   ]
  },
  {
   "cell_type": "code",
   "execution_count": 12,
   "id": "b780006a",
   "metadata": {},
   "outputs": [
    {
     "name": "stdout",
     "output_type": "stream",
     "text": [
      "2022-05-31 15:41:08.629 INFO  [140485261166400] ClientImpl:483 | Closing Pulsar client\n",
      "2022-05-31 15:41:08.630 INFO  [140485261166400] ProducerImpl:546 | [persistent://public/default/request, standalone-0-43] Closing producer for topic persistent://public/default/request\n",
      "2022-05-31 15:41:08.630 INFO  [140485261166400] ConsumerImpl:884 | [persistent://public/default/response_one, client, 0] Closing consumer for topic persistent://public/default/response_one\n",
      "2022-05-31 15:41:08.630 INFO  [140485261166400] ConsumerImpl:884 | [persistent://public/default/response_two, client, 1] Closing consumer for topic persistent://public/default/response_two\n",
      "2022-05-31 15:41:08.630 INFO  [140485261166400] ConsumerImpl:884 | [persistent://public/default/response_three, client, 2] Closing consumer for topic persistent://public/default/response_three\n",
      "2022-05-31 15:41:08.631 INFO  [140485261166400] ConsumerImpl:884 | [persistent://public/default/response_four, client, 3] Closing consumer for topic persistent://public/default/response_four\n",
      "2022-05-31 15:41:08.635 INFO  [140484307330816] ProducerImpl:589 | [persistent://public/default/request, standalone-0-43] Closed producer\n",
      "2022-05-31 15:41:08.637 INFO  [140484307330816] ConsumerImpl:940 | [persistent://public/default/response_one, client, 0] Closed consumer 0\n",
      "2022-05-31 15:41:08.640 INFO  [140484307330816] ConsumerImpl:940 | [persistent://public/default/response_two, client, 1] Closed consumer 1\n",
      "2022-05-31 15:41:08.642 INFO  [140484307330816] ConsumerImpl:940 | [persistent://public/default/response_three, client, 2] Closed consumer 2\n",
      "2022-05-31 15:41:08.643 INFO  [140484307330816] ConsumerImpl:940 | [persistent://public/default/response_four, client, 3] Closed consumer 3\n",
      "2022-05-31 15:41:08.644 INFO  [140484307330816] ClientConnection:1428 | [127.0.0.1:33852 -> 127.0.0.1:6650] Connection closed\n"
     ]
    }
   ],
   "source": [
    "client.close()"
   ]
  },
  {
   "cell_type": "code",
   "execution_count": 25,
   "id": "185fe767",
   "metadata": {},
   "outputs": [
    {
     "data": {
      "text/plain": [
       "[[1], [2], [3]]"
      ]
     },
     "execution_count": 25,
     "metadata": {},
     "output_type": "execute_result"
    }
   ],
   "source": [
    "a = [[1],[2]]\n",
    "b = [[3]]\n",
    "a.extend(b)\n",
    "a"
   ]
  },
  {
   "cell_type": "code",
   "execution_count": 5,
   "id": "4503c4f2",
   "metadata": {},
   "outputs": [
    {
     "data": {
      "text/plain": [
       "[('a', 1), ('a', 3), ('a', 12)]"
      ]
     },
     "execution_count": 5,
     "metadata": {},
     "output_type": "execute_result"
    }
   ],
   "source": [
    "a = [(\"a\", 12),(\"a\",1),(\"a\",3)]\n",
    "sorted(a,key=lambda tup: tup[1])"
   ]
  },
  {
   "cell_type": "code",
   "execution_count": null,
   "id": "33dabaf0",
   "metadata": {},
   "outputs": [],
   "source": []
  }
 ],
 "metadata": {
  "kernelspec": {
   "display_name": "Python 3 (ipykernel)",
   "language": "python",
   "name": "python3"
  },
  "language_info": {
   "codemirror_mode": {
    "name": "ipython",
    "version": 3
   },
   "file_extension": ".py",
   "mimetype": "text/x-python",
   "name": "python",
   "nbconvert_exporter": "python",
   "pygments_lexer": "ipython3",
   "version": "3.8.10"
  }
 },
 "nbformat": 4,
 "nbformat_minor": 5
}
